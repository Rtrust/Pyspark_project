{
 "cells": [
  {
   "cell_type": "code",
   "execution_count": 18,
   "id": "9d867484",
   "metadata": {},
   "outputs": [],
   "source": [
    "import pyspark\n",
    "from pyspark.sql import SparkSession\n",
    "from pyspark.sql import functions as F"
   ]
  },
  {
   "cell_type": "code",
   "execution_count": 19,
   "id": "18cf8dbd",
   "metadata": {},
   "outputs": [],
   "source": [
    "spark = SparkSession.builder.master(\"local[*]\").appName(\"Datamanipulation\").getOrCreate()"
   ]
  },
  {
   "cell_type": "code",
   "execution_count": 20,
   "id": "9e64796c",
   "metadata": {},
   "outputs": [
    {
     "data": {
      "text/html": [
       "\n",
       "            <div>\n",
       "                <p><b>SparkSession - in-memory</b></p>\n",
       "                \n",
       "        <div>\n",
       "            <p><b>SparkContext</b></p>\n",
       "\n",
       "            <p><a href=\"http://GeekZ:4040\">Spark UI</a></p>\n",
       "\n",
       "            <dl>\n",
       "              <dt>Version</dt>\n",
       "                <dd><code>v3.3.2</code></dd>\n",
       "              <dt>Master</dt>\n",
       "                <dd><code>local[*]</code></dd>\n",
       "              <dt>AppName</dt>\n",
       "                <dd><code>Datamanipulation</code></dd>\n",
       "            </dl>\n",
       "        </div>\n",
       "        \n",
       "            </div>\n",
       "        "
      ],
      "text/plain": [
       "<pyspark.sql.session.SparkSession at 0x1d9a7d1e310>"
      ]
     },
     "execution_count": 20,
     "metadata": {},
     "output_type": "execute_result"
    }
   ],
   "source": [
    "spark"
   ]
  },
  {
   "cell_type": "code",
   "execution_count": 21,
   "id": "1cb29770",
   "metadata": {},
   "outputs": [],
   "source": [
    "# read our data - lives in a csv file\n",
    "\n",
    "df = spark.read.option(\"header\",\"true\").csv(\"/Users/pc home/Desktop/Data_PySpark_BigData_Exercises/Sample - EU Superstore.csv\")"
   ]
  },
  {
   "cell_type": "code",
   "execution_count": 22,
   "id": "6c800030",
   "metadata": {},
   "outputs": [
    {
     "name": "stdout",
     "output_type": "stream",
     "text": [
      "The number of rows with the country being France: 2827\n"
     ]
    }
   ],
   "source": [
    "# how many rows of the EU Superstore dataset have the country being France\n",
    "df_france= df.filter(df['Country'] == 'France')\n",
    "count_df_france = df_france.count()\n",
    "print(f\"The number of rows with the country being France: {count_df_france}\")"
   ]
  },
  {
   "cell_type": "code",
   "execution_count": 23,
   "id": "648e5f8a",
   "metadata": {},
   "outputs": [
    {
     "name": "stdout",
     "output_type": "stream",
     "text": [
      "The number of profitable rows with the country being France: 2277\n"
     ]
    }
   ],
   "source": [
    "# of those, how many are profitable?\n",
    "profit_france = df_france.filter(df_france['Profit'] > 0)\n",
    "count_profit_france = profit_france.count() \n",
    "print(f\"The number of profitable rows with the country being France: {count_profit_france}\")"
   ]
  },
  {
   "cell_type": "code",
   "execution_count": 24,
   "id": "ca611b93",
   "metadata": {},
   "outputs": [
    {
     "name": "stdout",
     "output_type": "stream",
     "text": [
      "The number of different discount brackets: 14\n",
      "Discount brackets: ['0', '0.1', '0.15', '0.2', '0.3', '0.35', '0.4', '0.45', '0.5', '0.6', '0.65', '0.7', '0.8', '0.85']\n"
     ]
    }
   ],
   "source": [
    "# how any different discount brackets exist? what are they?\n",
    "distinct_discounts = df.select('Discount').distinct()\n",
    "discount_brackets = [row['Discount'] for row in distinct_discounts.collect()]\n",
    "print(f\"The number of different discount brackets: {len(discount_brackets)}\")\n",
    "print(f\"Discount brackets: {sorted(discount_brackets)}\")"
   ]
  },
  {
   "cell_type": "code",
   "execution_count": 25,
   "id": "b2e1f9f0",
   "metadata": {},
   "outputs": [
    {
     "name": "stdout",
     "output_type": "stream",
     "text": [
      "Discount: 0 - Total Profit: 383806.53000000026\n",
      "Discount: 0.1 - Total Profit: 126884.0309999999\n",
      "Discount: 0.15 - Total Profit: 24677.563499999975\n",
      "Discount: 0.2 - Total Profit: 2189.5499999999984\n",
      "Discount: 0.3 - Total Profit: -758.4209999999999\n",
      "Discount: 0.35 - Total Profit: -9122.649\n",
      "Discount: 0.4 - Total Profit: -21346.427999999996\n",
      "Discount: 0.45 - Total Profit: -1103.1915\n",
      "Discount: 0.5 - Total Profit: -96632.115\n",
      "Discount: 0.6 - Total Profit: -20517.456000000002\n",
      "Discount: 0.65 - Total Profit: -6221.965499999999\n",
      "Discount: 0.7 - Total Profit: -5496.765\n",
      "Discount: 0.8 - Total Profit: -460.284\n",
      "Discount: 0.85 - Total Profit: -3068.658\n"
     ]
    }
   ],
   "source": [
    "# let's see the totl profit by discount bracket, make sure they are ordered by \n",
    "total_profit_by_discount = df.groupBy('Discount').agg(F.sum('Profit').alias('TotalProfit'))\n",
    "sorted_total_profit_by_discount = total_profit_by_discount.sort('Discount')\n",
    "for row in sorted_total_profit_by_discount.collect():\n",
    "    print(f\"Discount: {row['Discount']} - Total Profit: {row['TotalProfit']}\")\n"
   ]
  },
  {
   "cell_type": "code",
   "execution_count": 26,
   "id": "d1d76050",
   "metadata": {},
   "outputs": [
    {
     "name": "stdout",
     "output_type": "stream",
     "text": [
      "The stop value after which we should stop offering discounts to maintain a positive profit: less than 0.3\n"
     ]
    }
   ],
   "source": [
    "# what is the value after which we should stop offering discount?\n",
    "stop_value = None\n",
    "\n",
    "for row in sorted_total_profit_by_discount.collect():\n",
    "    discount = row['Discount']\n",
    "    total_profit = row['TotalProfit']\n",
    "    \n",
    "    if total_profit < 0:\n",
    "        stop_value = discount\n",
    "        break\n",
    "    \n",
    "if stop_value is None:\n",
    "    print(\"There is no threshold value where total profit becomes negative.\")\n",
    "else:\n",
    "    print(f\"The stop value after which we should stop offering discounts to maintain a positive profit: less than {stop_value}\")\n",
    "\n",
    "\n"
   ]
  },
  {
   "cell_type": "code",
   "execution_count": 27,
   "id": "aae94ee1",
   "metadata": {},
   "outputs": [
    {
     "name": "stdout",
     "output_type": "stream",
     "text": [
      "Top 5 most profitable customers:\n",
      "1. Customer ID: SP-20920 - Total Profit: 4974.512999999999\n",
      "2. Customer ID: PJ-18835 - Total Profit: 3986.0039999999995\n",
      "3. Customer ID: PO-18865 - Total Profit: 3778.197\n",
      "4. Customer ID: EB-13840 - Total Profit: 3459.66\n",
      "5. Customer ID: MG-18145 - Total Profit: 3144.4439999999995\n"
     ]
    }
   ],
   "source": [
    "# who are the top 5 most profitable customers\n",
    "total_profit_by_customer = df.groupBy('Customer ID').agg(F.sum('Profit').alias('TotalProfit'))\n",
    "sorted_total_profit_by_customer = total_profit_by_customer.sort(F.desc('TotalProfit'))\n",
    "top_5_profitable_customers = sorted_total_profit_by_customer.take(5)\n",
    "\n",
    "print(\"Top 5 most profitable customers:\")\n",
    "for i, row in enumerate(top_5_profitable_customers, start=1):\n",
    "    print(f\"{i}. Customer ID: {row['Customer ID']} - Total Profit: {row['TotalProfit']}\")\n"
   ]
  },
  {
   "cell_type": "code",
   "execution_count": 28,
   "id": "277c465a",
   "metadata": {},
   "outputs": [
    {
     "name": "stdout",
     "output_type": "stream",
     "text": [
      "Number of rows belonging to the top 5 most profitable customers: 76\n"
     ]
    }
   ],
   "source": [
    "# get all the rows belonging to those 5 customer names: hint, you may need the collect method - how many rows are they?\n",
    "top_5_customer_ids = [row['Customer ID'] for row in top_5_profitable_customers]\n",
    "top_5_customers_rows = df.filter(df['Customer ID'].isin(top_5_customer_ids))\n",
    "count_top_5_customers_rows = top_5_customers_rows.count()\n",
    "print(f\"Number of rows belonging to the top 5 most profitable customers: {count_top_5_customers_rows}\")"
   ]
  },
  {
   "cell_type": "code",
   "execution_count": 29,
   "id": "8d0fc034",
   "metadata": {},
   "outputs": [
    {
     "name": "stdout",
     "output_type": "stream",
     "text": [
      "+------+---------------+----------+----------+--------------+-----------+----------------+-----------+-------------+--------------------+--------------+-------+---------------+---------------+------------+--------------------+--------+--------+--------+-------+------------------+\n",
      "|Row ID|       Order ID|Order Date| Ship Date|     Ship Mode|Customer ID|   Customer Name|    Segment|         City|               State|       Country| Region|     Product ID|       Category|Sub-Category|        Product Name|   Sales|Quantity|Discount| Profit|     OriginalValue|\n",
      "+------+---------------+----------+----------+--------------+-----------+----------------+-----------+-------------+--------------------+--------------+-------+---------------+---------------+------------+--------------------+--------+--------+--------+-------+------------------+\n",
      "|     1|ES-2017-1311038|07/02/2017|11/02/2017|Standard Class|   AS-10045|  Aaron Smayling|  Corporate|        Leeds|             England|United Kingdom|  North|OFF-ST-10000988|Office Supplies|     Storage|Fellowes Folders,...|    79.2|       3|       0|   39.6|              79.2|\n",
      "|     2|ES-2017-1311038|07/02/2017|11/02/2017|Standard Class|   AS-10045|  Aaron Smayling|  Corporate|        Leeds|             England|United Kingdom|  North|TEC-AC-10004144|     Technology| Accessories|SanDisk Numeric K...|  388.92|       7|       0|      0|            388.92|\n",
      "|     3|ES-2017-1311038|07/02/2017|11/02/2017|Standard Class|   AS-10045|  Aaron Smayling|  Corporate|        Leeds|             England|United Kingdom|  North|OFF-LA-10001915|Office Supplies|      Labels|Avery Legal Exhib...|   35.19|       3|       0|  16.11|             35.19|\n",
      "|     4|ES-2017-1311038|07/02/2017|11/02/2017|Standard Class|   AS-10045|  Aaron Smayling|  Corporate|        Leeds|             England|United Kingdom|  North|OFF-ST-10004550|Office Supplies|     Storage|Fellowes Folders,...|   50.94|       2|       0|   13.2|             50.94|\n",
      "|     5|ES-2017-1311038|07/02/2017|11/02/2017|Standard Class|   AS-10045|  Aaron Smayling|  Corporate|        Leeds|             England|United Kingdom|  North|TEC-AC-10004068|     Technology| Accessories|Memorex Memory Ca...|  307.44|       3|       0|  73.71|            307.44|\n",
      "|     6|ES-2017-1311038|07/02/2017|11/02/2017|Standard Class|   AS-10045|  Aaron Smayling|  Corporate|        Leeds|             England|United Kingdom|  North|OFF-ST-10002271|Office Supplies|     Storage|Rogers Shelving, ...|   122.4|       2|       0|  37.92|             122.4|\n",
      "|     7|ES-2017-1311038|07/02/2017|11/02/2017|Standard Class|   AS-10045|  Aaron Smayling|  Corporate|        Leeds|             England|United Kingdom|  North|TEC-PH-10003963|     Technology|      Phones|Apple Signal Boos...|  413.82|       3|       0|  20.61|            413.82|\n",
      "|     8|ES-2015-5113958|02/08/2015|07/08/2015|  Second Class|   EB-13840|   Ellis Ballard|  Corporate|West Bromwich|             England|United Kingdom|  North|TEC-CO-10004325|     Technology|     Copiers|Canon Personal Co...|  428.22|       3|       0| 192.69|            428.22|\n",
      "|     9|ES-2015-5113958|02/08/2015|07/08/2015|  Second Class|   EB-13840|   Ellis Ballard|  Corporate|West Bromwich|             England|United Kingdom|  North|OFF-AP-10004512|Office Supplies|  Appliances|   Hoover Stove, Red| 3979.29|       7|       0|1989.54|           3979.29|\n",
      "|    10|ES-2015-5113958|02/08/2015|07/08/2015|  Second Class|   EB-13840|   Ellis Ballard|  Corporate|West Bromwich|             England|United Kingdom|  North|OFF-FA-10002393|Office Supplies|   Fasteners|Accos Push Pins, ...|   43.56|       3|       0|   12.6|             43.56|\n",
      "|    11|ES-2015-2510515|20/06/2015|20/06/2015|      Same Day|   LH-17155|Logan Haushalter|   Consumer|   Le Bouscat|Aquitaine-Limousi...|        France|Central|OFF-LA-10002805|Office Supplies|      Labels|Hon Color Coded L...|   25.26|       2|       0|   0.48|             25.26|\n",
      "|    12|ES-2015-2510515|20/06/2015|20/06/2015|      Same Day|   LH-17155|Logan Haushalter|   Consumer|   Le Bouscat|Aquitaine-Limousi...|        France|Central|OFF-AP-10002330|Office Supplies|  Appliances|Hamilton Beach St...|2443.905|       5|     0.1|760.305|2715.4500000000003|\n",
      "|    13|ES-2015-2510515|20/06/2015|20/06/2015|      Same Day|   LH-17155|Logan Haushalter|   Consumer|   Le Bouscat|Aquitaine-Limousi...|        France|Central|OFF-AR-10000505|Office Supplies|         Art|Binney & Smith Pe...|   12.21|       1|       0|      0|             12.21|\n",
      "|    14|ES-2015-2510515|20/06/2015|20/06/2015|      Same Day|   LH-17155|Logan Haushalter|   Consumer|   Le Bouscat|Aquitaine-Limousi...|        France|Central|TEC-PH-10002898|     Technology|      Phones|Samsung Smart Pho...|2167.296|       4|    0.15|790.416|2549.7599999999998|\n",
      "|    15|ES-2015-2510515|20/06/2015|20/06/2015|      Same Day|   LH-17155|Logan Haushalter|   Consumer|   Le Bouscat|Aquitaine-Limousi...|        France|Central|OFF-ST-10001413|Office Supplies|     Storage|Rogers Folders, Blue| 138.105|       5|     0.1|-12.345|            153.45|\n",
      "|    16|ES-2016-4380115|16/02/2016|20/02/2016|Standard Class|   KC-16540| Kelly Collister|   Consumer|   Strasbourg|Alsace-Champagne-...|        France|Central|OFF-ST-10003931|Office Supplies|     Storage|Smead Trays, Wire...| 128.385|       3|     0.1|  4.275|142.64999999999998|\n",
      "|    17|ES-2016-4380115|16/02/2016|20/02/2016|Standard Class|   KC-16540| Kelly Collister|   Consumer|   Strasbourg|Alsace-Champagne-...|        France|Central|TEC-AC-10004269|     Technology| Accessories|Belkin Memory Car...|  690.12|       6|       0|      0|            690.12|\n",
      "|    18|ES-2016-4380115|16/02/2016|20/02/2016|Standard Class|   KC-16540| Kelly Collister|   Consumer|   Strasbourg|Alsace-Champagne-...|        France|Central|OFF-LA-10001676|Office Supplies|      Labels|Hon Removable Lab...|    8.16|       1|       0|   1.14|              8.16|\n",
      "|    19|ES-2017-2573330|03/11/2017|08/11/2017|Standard Class|   BF-11170|      Ben Ferrer|Home Office|         Unna|North Rhine-Westp...|       Germany|Central|TEC-MA-10000811|     Technology|    Machines|Okidata Phone, Du...|  347.88|       4|       0|  76.44|            347.88|\n",
      "|    20|ES-2017-2573330|03/11/2017|08/11/2017|Standard Class|   BF-11170|      Ben Ferrer|Home Office|         Unna|North Rhine-Westp...|       Germany|Central|OFF-ST-10000648|Office Supplies|     Storage|Eldon File Cart, ...| 575.505|       5|     0.1| 12.705| 639.4499999999999|\n",
      "+------+---------------+----------+----------+--------------+-----------+----------------+-----------+-------------+--------------------+--------------+-------+---------------+---------------+------------+--------------------+--------+--------+--------+-------+------------------+\n",
      "only showing top 20 rows\n",
      "\n"
     ]
    }
   ],
   "source": [
    "# create a new column which is the value of the sale were there not discount applied. Hint: orginal = sales/(1-d)\n",
    "df_with_original_value = df.withColumn('OriginalValue',df['Sales'] / (1 - df['Discount']))\n",
    "df_with_original_value.show()"
   ]
  },
  {
   "cell_type": "code",
   "execution_count": 30,
   "id": "ba0f9aa9",
   "metadata": {},
   "outputs": [
    {
     "name": "stdout",
     "output_type": "stream",
     "text": [
      "+------+---------------+----------+----------+--------------+-----------+----------------+-----------+-------------+--------------------+--------------+-------+---------------+---------------+------------+--------------------+--------+--------+--------+-------+------------------+------------------+\n",
      "|Row ID|       Order ID|Order Date| Ship Date|     Ship Mode|Customer ID|   Customer Name|    Segment|         City|               State|       Country| Region|     Product ID|       Category|Sub-Category|        Product Name|   Sales|Quantity|Discount| Profit|     OriginalValue|        difference|\n",
      "+------+---------------+----------+----------+--------------+-----------+----------------+-----------+-------------+--------------------+--------------+-------+---------------+---------------+------------+--------------------+--------+--------+--------+-------+------------------+------------------+\n",
      "|     1|ES-2017-1311038|07/02/2017|11/02/2017|Standard Class|   AS-10045|  Aaron Smayling|  Corporate|        Leeds|             England|United Kingdom|  North|OFF-ST-10000988|Office Supplies|     Storage|Fellowes Folders,...|    79.2|       3|       0|   39.6|              79.2|               0.0|\n",
      "|     2|ES-2017-1311038|07/02/2017|11/02/2017|Standard Class|   AS-10045|  Aaron Smayling|  Corporate|        Leeds|             England|United Kingdom|  North|TEC-AC-10004144|     Technology| Accessories|SanDisk Numeric K...|  388.92|       7|       0|      0|            388.92|               0.0|\n",
      "|     3|ES-2017-1311038|07/02/2017|11/02/2017|Standard Class|   AS-10045|  Aaron Smayling|  Corporate|        Leeds|             England|United Kingdom|  North|OFF-LA-10001915|Office Supplies|      Labels|Avery Legal Exhib...|   35.19|       3|       0|  16.11|             35.19|               0.0|\n",
      "|     4|ES-2017-1311038|07/02/2017|11/02/2017|Standard Class|   AS-10045|  Aaron Smayling|  Corporate|        Leeds|             England|United Kingdom|  North|OFF-ST-10004550|Office Supplies|     Storage|Fellowes Folders,...|   50.94|       2|       0|   13.2|             50.94|               0.0|\n",
      "|     5|ES-2017-1311038|07/02/2017|11/02/2017|Standard Class|   AS-10045|  Aaron Smayling|  Corporate|        Leeds|             England|United Kingdom|  North|TEC-AC-10004068|     Technology| Accessories|Memorex Memory Ca...|  307.44|       3|       0|  73.71|            307.44|               0.0|\n",
      "|     6|ES-2017-1311038|07/02/2017|11/02/2017|Standard Class|   AS-10045|  Aaron Smayling|  Corporate|        Leeds|             England|United Kingdom|  North|OFF-ST-10002271|Office Supplies|     Storage|Rogers Shelving, ...|   122.4|       2|       0|  37.92|             122.4|               0.0|\n",
      "|     7|ES-2017-1311038|07/02/2017|11/02/2017|Standard Class|   AS-10045|  Aaron Smayling|  Corporate|        Leeds|             England|United Kingdom|  North|TEC-PH-10003963|     Technology|      Phones|Apple Signal Boos...|  413.82|       3|       0|  20.61|            413.82|               0.0|\n",
      "|     8|ES-2015-5113958|02/08/2015|07/08/2015|  Second Class|   EB-13840|   Ellis Ballard|  Corporate|West Bromwich|             England|United Kingdom|  North|TEC-CO-10004325|     Technology|     Copiers|Canon Personal Co...|  428.22|       3|       0| 192.69|            428.22|               0.0|\n",
      "|     9|ES-2015-5113958|02/08/2015|07/08/2015|  Second Class|   EB-13840|   Ellis Ballard|  Corporate|West Bromwich|             England|United Kingdom|  North|OFF-AP-10004512|Office Supplies|  Appliances|   Hoover Stove, Red| 3979.29|       7|       0|1989.54|           3979.29|               0.0|\n",
      "|    10|ES-2015-5113958|02/08/2015|07/08/2015|  Second Class|   EB-13840|   Ellis Ballard|  Corporate|West Bromwich|             England|United Kingdom|  North|OFF-FA-10002393|Office Supplies|   Fasteners|Accos Push Pins, ...|   43.56|       3|       0|   12.6|             43.56|               0.0|\n",
      "|    11|ES-2015-2510515|20/06/2015|20/06/2015|      Same Day|   LH-17155|Logan Haushalter|   Consumer|   Le Bouscat|Aquitaine-Limousi...|        France|Central|OFF-LA-10002805|Office Supplies|      Labels|Hon Color Coded L...|   25.26|       2|       0|   0.48|             25.26|               0.0|\n",
      "|    12|ES-2015-2510515|20/06/2015|20/06/2015|      Same Day|   LH-17155|Logan Haushalter|   Consumer|   Le Bouscat|Aquitaine-Limousi...|        France|Central|OFF-AP-10002330|Office Supplies|  Appliances|Hamilton Beach St...|2443.905|       5|     0.1|760.305|2715.4500000000003| 271.5450000000001|\n",
      "|    13|ES-2015-2510515|20/06/2015|20/06/2015|      Same Day|   LH-17155|Logan Haushalter|   Consumer|   Le Bouscat|Aquitaine-Limousi...|        France|Central|OFF-AR-10000505|Office Supplies|         Art|Binney & Smith Pe...|   12.21|       1|       0|      0|             12.21|               0.0|\n",
      "|    14|ES-2015-2510515|20/06/2015|20/06/2015|      Same Day|   LH-17155|Logan Haushalter|   Consumer|   Le Bouscat|Aquitaine-Limousi...|        France|Central|TEC-PH-10002898|     Technology|      Phones|Samsung Smart Pho...|2167.296|       4|    0.15|790.416|2549.7599999999998|382.46399999999994|\n",
      "|    15|ES-2015-2510515|20/06/2015|20/06/2015|      Same Day|   LH-17155|Logan Haushalter|   Consumer|   Le Bouscat|Aquitaine-Limousi...|        France|Central|OFF-ST-10001413|Office Supplies|     Storage|Rogers Folders, Blue| 138.105|       5|     0.1|-12.345|            153.45|15.344999999999999|\n",
      "|    16|ES-2016-4380115|16/02/2016|20/02/2016|Standard Class|   KC-16540| Kelly Collister|   Consumer|   Strasbourg|Alsace-Champagne-...|        France|Central|OFF-ST-10003931|Office Supplies|     Storage|Smead Trays, Wire...| 128.385|       3|     0.1|  4.275|142.64999999999998|14.264999999999986|\n",
      "|    17|ES-2016-4380115|16/02/2016|20/02/2016|Standard Class|   KC-16540| Kelly Collister|   Consumer|   Strasbourg|Alsace-Champagne-...|        France|Central|TEC-AC-10004269|     Technology| Accessories|Belkin Memory Car...|  690.12|       6|       0|      0|            690.12|               0.0|\n",
      "|    18|ES-2016-4380115|16/02/2016|20/02/2016|Standard Class|   KC-16540| Kelly Collister|   Consumer|   Strasbourg|Alsace-Champagne-...|        France|Central|OFF-LA-10001676|Office Supplies|      Labels|Hon Removable Lab...|    8.16|       1|       0|   1.14|              8.16|               0.0|\n",
      "|    19|ES-2017-2573330|03/11/2017|08/11/2017|Standard Class|   BF-11170|      Ben Ferrer|Home Office|         Unna|North Rhine-Westp...|       Germany|Central|TEC-MA-10000811|     Technology|    Machines|Okidata Phone, Du...|  347.88|       4|       0|  76.44|            347.88|               0.0|\n",
      "|    20|ES-2017-2573330|03/11/2017|08/11/2017|Standard Class|   BF-11170|      Ben Ferrer|Home Office|         Unna|North Rhine-Westp...|       Germany|Central|OFF-ST-10000648|Office Supplies|     Storage|Eldon File Cart, ...| 575.505|       5|     0.1| 12.705| 639.4499999999999|63.944999999999936|\n",
      "+------+---------------+----------+----------+--------------+-----------+----------------+-----------+-------------+--------------------+--------------+-------+---------------+---------------+------------+--------------------+--------+--------+--------+-------+------------------+------------------+\n",
      "only showing top 20 rows\n",
      "\n"
     ]
    }
   ],
   "source": [
    "# calculate the difference between sales and discount value\n",
    "diff = df_with_original_value.withColumn('difference', df_with_original_value['OriginalValue'] - df_with_original_value['Sales'])\n",
    "diff.show()"
   ]
  },
  {
   "cell_type": "code",
   "execution_count": 31,
   "id": "8e810f4f",
   "metadata": {},
   "outputs": [
    {
     "name": "stdout",
     "output_type": "stream",
     "text": [
      "Discount: 0 - Total Difference Value: 0.0\n",
      "Discount: 0.1 - Total Difference Value: 84712.44899999995\n",
      "Discount: 0.15 - Total Difference Value: 45233.17650000002\n",
      "Discount: 0.2 - Total Difference Value: 10653.119999999997\n",
      "Discount: 0.3 - Total Difference Value: 2630.2410000000004\n",
      "Discount: 0.35 - Total Difference Value: 29163.099000000002\n",
      "Discount: 0.4 - Total Difference Value: 46724.68800000002\n",
      "Discount: 0.45 - Total Difference Value: 2083.4414999999995\n",
      "Discount: 0.5 - Total Difference Value: 183734.26500000045\n",
      "Discount: 0.6 - Total Difference Value: 39644.04599999997\n",
      "Discount: 0.65 - Total Difference Value: 12219.655499999999\n",
      "Discount: 0.7 - Total Difference Value: 8534.085\n",
      "Discount: 0.8 - Total Difference Value: 635.6640000000002\n",
      "Discount: 0.85 - Total Difference Value: 4515.438\n"
     ]
    }
   ],
   "source": [
    "# how much money did we not gain due to the discounts - per discount bracket?\n",
    "total_difference_value_by_discount = diff.groupBy('Discount').agg(F.sum('difference').alias('TotalDifferenceValue'))\n",
    "sorted_total_difference_value_by_discount = total_difference_value_by_discount.sort('Discount')\n",
    "for row in sorted_total_difference_value_by_discount.collect():\n",
    "    print(f\"Discount: {row['Discount']} - Total Difference Value: {row['TotalDifferenceValue']}\")\n"
   ]
  },
  {
   "cell_type": "code",
   "execution_count": 32,
   "id": "76aca9f2",
   "metadata": {},
   "outputs": [
    {
     "name": "stdout",
     "output_type": "stream",
     "text": [
      "Discount bracket with the highest total difference value: 0.5 - Total Difference Value: 183734.26500000045\n"
     ]
    }
   ],
   "source": [
    "# find the discount bracket which made us not gain the most (dynamically)\n",
    "sorted_by_max_difference = total_difference_value_by_discount.sort(F.desc('TotalDifferenceValue'))\n",
    "highest_difference_row = sorted_by_max_difference.first()\n",
    "print(f\"Discount bracket with the highest total difference value: {highest_difference_row['Discount']} - Total Difference Value: {highest_difference_row['TotalDifferenceValue']}\")\n",
    "\n"
   ]
  },
  {
   "cell_type": "code",
   "execution_count": 33,
   "id": "0aa9b685",
   "metadata": {},
   "outputs": [
    {
     "name": "stdout",
     "output_type": "stream",
     "text": [
      "Total profit after removing orders from the discount group with the highest total difference value: 469461.8565000003\n"
     ]
    }
   ],
   "source": [
    "# what would have been the total profit if we removed all orders from that discount group? \n",
    "filtered_df = df.filter(df['Discount'] != highest_difference_row['Discount'])\n",
    "total_profit_after_removal = filtered_df.agg(F.sum('Profit')).collect()[0][0]\n",
    "print(f\"Total profit after removing orders from the discount group with the highest total difference value: {total_profit_after_removal}\")"
   ]
  },
  {
   "cell_type": "code",
   "execution_count": 34,
   "id": "fca95e60",
   "metadata": {},
   "outputs": [
    {
     "name": "stdout",
     "output_type": "stream",
     "text": [
      "Profit increased by: 96632.11499999976\n"
     ]
    }
   ],
   "source": [
    "#how much more (or less) profit is that?\n",
    "current_total_profit = df.agg(F.sum('Profit')).collect()[0][0]\n",
    "total_profit_after_removal = filtered_df.agg(F.sum('Profit')).collect()[0][0]\n",
    "profit_difference = total_profit_after_removal - current_total_profit\n",
    "\n",
    "if profit_difference > 0:\n",
    "    print(f\"Profit increased by: {profit_difference}\")\n",
    "elif profit_difference < 0:\n",
    "    print(f\"Profit decreased by: {-profit_difference}\")\n",
    "else:\n",
    "    print(\"There is no change in profit.\")\n"
   ]
  },
  {
   "cell_type": "code",
   "execution_count": 35,
   "id": "0fb49200",
   "metadata": {},
   "outputs": [],
   "source": [
    "# create a temporary table for our superstore table in sql\n",
    "df.createOrReplaceTempView(\"superstore_temp_table\")\n"
   ]
  },
  {
   "cell_type": "code",
   "execution_count": 36,
   "id": "a23e0bca",
   "metadata": {},
   "outputs": [
    {
     "name": "stdout",
     "output_type": "stream",
     "text": [
      "Number of rows in the superstore_temp_table: 10000\n"
     ]
    }
   ],
   "source": [
    "# use an SQL query to count the number of rows\n",
    "row_count = spark.sql(\"SELECT COUNT(*) as total_rows FROM superstore_temp_table\").collect()[0][\"total_rows\"]\n",
    "print(f\"Number of rows in the superstore_temp_table: {row_count}\")"
   ]
  },
  {
   "cell_type": "code",
   "execution_count": 37,
   "id": "8e2cf9f2",
   "metadata": {},
   "outputs": [
    {
     "name": "stdout",
     "output_type": "stream",
     "text": [
      "Country: Switzerland - Profit Ratio: 0.2909201193350232\n",
      "Country: Austria - Profit Ratio: 0.2641908775042505\n",
      "Country: Norway - Profit Ratio: 0.2517747548521659\n",
      "Country: Belgium - Profit Ratio: 0.23508766583987942\n",
      "Country: United Kingdom - Profit Ratio: 0.21170103540397134\n",
      "Country: Spain - Profit Ratio: 0.18941580658358978\n",
      "Country: Finland - Profit Ratio: 0.18864296633316185\n",
      "Country: Germany - Profit Ratio: 0.17066792076621765\n",
      "Country: France - Profit Ratio: 0.12693568221933804\n",
      "Country: Italy - Profit Ratio: 0.06844355185424991\n",
      "Country: Ireland - Profit Ratio: -0.44426677493909256\n",
      "Country: Denmark - Profit Ratio: -0.4957190005664471\n",
      "Country: Netherlands - Profit Ratio: -0.5298342790541865\n",
      "Country: Sweden - Profit Ratio: -0.5745674280714466\n",
      "Country: Portugal - Profit Ratio: -0.5761662270806188\n"
     ]
    }
   ],
   "source": [
    "# Use an SQL query to calculate the profit ratio for each country: hint, ratio is sum(profit)/sum(sales)\n",
    "profit_ratio_by_country = spark.sql(\"\"\"\n",
    "    SELECT\n",
    "        Country,\n",
    "        SUM(Profit) / SUM(Sales) as ProfitRatio\n",
    "    FROM\n",
    "        superstore_temp_table\n",
    "    GROUP BY\n",
    "        Country\n",
    "    ORDER BY\n",
    "        ProfitRatio DESC\n",
    "\"\"\")\n",
    "for row in profit_ratio_by_country.collect():\n",
    "    print(f\"Country: {row['Country']} - Profit Ratio: {row['ProfitRatio']}\")\n"
   ]
  },
  {
   "cell_type": "code",
   "execution_count": 38,
   "id": "f8cdd772",
   "metadata": {},
   "outputs": [],
   "source": [
    "# is the country with the largest profit ratio, the country with the largest profit?\n",
    "country_largest_profit_ratio = spark.sql(\"\"\"\n",
    "    SELECT\n",
    "        Country,\n",
    "        SUM(Profit) / SUM(Sales) as ProfitRatio\n",
    "    FROM\n",
    "        superstore_temp_table\n",
    "    GROUP BY\n",
    "        Country\n",
    "    ORDER BY\n",
    "        ProfitRatio DESC\n",
    "    LIMIT 1\n",
    "\"\"\").collect()[0][\"Country\"]\n"
   ]
  },
  {
   "cell_type": "code",
   "execution_count": 39,
   "id": "4c7397b1",
   "metadata": {},
   "outputs": [
    {
     "name": "stdout",
     "output_type": "stream",
     "text": [
      "The country with the largest profit ratio (Switzerland) is NOT the country with the largest profit (United Kingdom).\n"
     ]
    }
   ],
   "source": [
    "country_largest_profit = spark.sql(\"\"\"\n",
    "    SELECT\n",
    "        Country,\n",
    "        SUM(Profit) as TotalProfit\n",
    "    FROM\n",
    "        superstore_temp_table\n",
    "    GROUP BY\n",
    "        Country\n",
    "    ORDER BY\n",
    "        TotalProfit DESC\n",
    "    LIMIT 1\n",
    "\"\"\").collect()[0][\"Country\"]\n",
    "if country_largest_profit_ratio == country_largest_profit:\n",
    "    print(f\"The country with the largest profit ratio ({country_largest_profit_ratio}) is also the country with the largest profit.\")\n",
    "else:\n",
    "    print(f\"The country with the largest profit ratio ({country_largest_profit_ratio}) is NOT the country with the largest profit ({country_largest_profit}).\")\n"
   ]
  }
 ],
 "metadata": {
  "kernelspec": {
   "display_name": "Python 3 (ipykernel)",
   "language": "python",
   "name": "python3"
  },
  "language_info": {
   "codemirror_mode": {
    "name": "ipython",
    "version": 3
   },
   "file_extension": ".py",
   "mimetype": "text/x-python",
   "name": "python",
   "nbconvert_exporter": "python",
   "pygments_lexer": "ipython3",
   "version": "3.11.1"
  }
 },
 "nbformat": 4,
 "nbformat_minor": 5
}
